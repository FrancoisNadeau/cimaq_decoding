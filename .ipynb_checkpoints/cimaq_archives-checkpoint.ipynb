{
 "cells": [
  {
   "cell_type": "code",
   "execution_count": 1,
   "id": "ec199db8",
   "metadata": {},
   "outputs": [
    {
     "name": "stderr",
     "output_type": "stream",
     "text": [
      "/home/fnadeau/myenv/lib/python3.7/site-packages/nilearn/datasets/__init__.py:89: FutureWarning: Fetchers from the nilearn.datasets module will be updated in version 0.9 to return python strings instead of bytes and Pandas dataframes instead of Numpy arrays.\n",
      "  \"Numpy arrays.\", FutureWarning)\n"
     ]
    }
   ],
   "source": [
    "import itertools\n",
    "import json\n",
    "import nilearn\n",
    "import os\n",
    "import nilearn\n",
    "import nibabel as nib\n",
    "import numpy as np\n",
    "import pandas as pd\n",
    "import seaborn as sns\n",
    "import sklearn\n",
    "\n",
    "from pathlib import Path\n",
    "from os import listdir as ls\n",
    "from os.path import basename as bname\n",
    "from os.path import dirname as dname\n",
    "from os.path import expanduser as xpu\n",
    "from os.path import join as pjoin\n",
    "from pandas import DataFrame as df\n",
    "from tqdm import tqdm\n",
    "from typing import Sequence, Union\n",
    "from collections.abc import Iterable\n",
    "\n",
    "from nilearn import masking\n",
    "from nilearn.connectome import ConnectivityMeasure\n",
    "from nilearn.image import concat_imgs, iter_img, mean_img\n",
    "from nilearn.input_data import NiftiMasker, NiftiMapsMasker, NiftiLabelsMasker\n",
    "\n",
    "from nilearn import plotting\n",
    "import nilearn.decoding\n",
    "from nilearn.input_data import NiftiMasker\n",
    "from nilearn.plotting import plot_stat_map, plot_anat, plot_img, plot_epi\n",
    "from nilearn.glm.first_level import FirstLevelModel, make_first_level_design_matrix  \n",
    "\n",
    "import cimaqprep\n",
    "import loadutils as lu\n",
    "import sniffbytes as snif\n",
    "import scanzip as szip\n",
    "\n",
    "from sklearn.feature_selection import f_classif\n",
    "from sklearn.model_selection import KFold"
   ]
  },
  {
   "cell_type": "code",
   "execution_count": 2,
   "id": "f7f374d9",
   "metadata": {},
   "outputs": [
    {
     "name": "stderr",
     "output_type": "stream",
     "text": [
      "fetching scans and infos: 100%|██████████████████| 4/4 [00:00<00:00, 644.53it/s]\n",
      "fetching scans and infos: 100%|██████████████████| 4/4 [00:00<00:00, 860.68it/s]\n",
      "fetching scans and infos: 100%|██████████████████| 4/4 [00:00<00:00, 673.22it/s]\n",
      "fetching scans and infos: 100%|██████████████████| 4/4 [00:00<00:00, 812.46it/s]\n",
      "fetching in-scan events: 100%|████████████████| 95/95 [00:00<00:00, 3728.17it/s]\n",
      "computing trial durations: 120it [00:00, 4757.78it/s]\n",
      "fetching out-scan behavioural data: 100%|████| 95/95 [00:00<00:00, 13068.94it/s]\n",
      "finding correct spatial answers: 117it [00:00, 399.36it/s]\n",
      "computing spatial accuracy: 117it [00:00, 6852.58it/s]\n",
      "fetching confounds: 100%|███████████████████| 101/101 [00:00<00:00, 1251.65it/s]\n",
      "fetching scans and infos: 100%|██████████████████| 4/4 [00:00<00:00, 676.99it/s]\n",
      "fetching scans and infos: 100%|██████████████████| 4/4 [00:00<00:00, 834.36it/s]\n",
      "fetching scans and infos: 100%|██████████████████| 4/4 [00:00<00:00, 696.76it/s]\n",
      "fetching scans and infos: 100%|██████████████████| 4/4 [00:00<00:00, 914.84it/s]\n",
      "fetching in-scan events: 100%|████████████████| 95/95 [00:00<00:00, 9031.05it/s]\n",
      "computing trial durations: 120it [00:00, 7301.74it/s]\n",
      "fetching out-scan behavioural data: 100%|█████| 95/95 [00:00<00:00, 8571.22it/s]\n",
      "finding correct spatial answers: 117it [00:00, 424.63it/s]\n",
      "computing spatial accuracy: 117it [00:00, 7795.86it/s]\n",
      "fetching confounds: 100%|███████████████████| 101/101 [00:00<00:00, 1674.80it/s]\n"
     ]
    }
   ],
   "source": [
    "# from notebook.services.config import ConfigManager\n",
    "# cmanager = ConfigManager()\n",
    "# cmanager.update('notebook', {'ExecuteTime': {\n",
    "#     'display_absolute_timestamps': False,\n",
    "#     'relative_timing_update_period': 5,\n",
    "#     'template': {\n",
    "#         'executed': 'started ${start_time}, finished in ${duration}',\n",
    "#     }\n",
    "# }})\n",
    "\n",
    "paths_of_interest = {'cimaq_nov_dir':xpu('~/../../data/simexp/DATA/cimaq_20190901'),\n",
    "                     'cimaq_mar_dir':xpu('~/../../data/simexp/DATA/cimaq_03-19'),\n",
    "                     'events_dir':xpu('~/../../data/simexp/DATA/cimaq_corrected_events/events'),\n",
    "                     'behav_dir':xpu('~/../../data/simexp/DATA/cimaq_corrected_behavioural/behavioural'),\n",
    "                     'masker_params_dir':xpu('~/../../data/simexp/DATA/cimaq_common_masker_params.json')}\n",
    "#                      'participants_path':xpu('~/../../data/simexp/DATA/cimaq_03-19/derivatives/CIMAQ_fmri_memory/data/participants/')}\n",
    "import warnings\n",
    "warnings.filterwarnings('ignore')\n",
    "from os.path import expanduser as xpu\n",
    "from cimaqprep.participant_data import participant_data\n",
    "subject00, subject01 = participant_data(**paths_of_interest), participant_data(**paths_of_interest)"
   ]
  },
  {
   "cell_type": "code",
   "execution_count": 9,
   "id": "96e3c5bf",
   "metadata": {},
   "outputs": [],
   "source": [
    "subject00.nifti_masker = subject00.nifti_masker.fit(imgs=subject00.mar_scans.func[1][0])\n",
    "subject00.voxel_signals = subject00.nifti_masker.transform_single_imgs(imgs=subject00.mar_scans.func[1][0],\n",
    "                                                                       confounds=subject00.confounds)\n",
    "subject00.masked_func = subject00.nifti_masker.inverse_transform(subject00.voxel_signals)"
   ]
  },
  {
   "cell_type": "code",
   "execution_count": 14,
   "id": "505d3b0d",
   "metadata": {},
   "outputs": [],
   "source": [
    "difumo64 = nilearn.datasets.fetch_atlas_difumo(dimension=64,\n",
    "                                    resolution_mm=3,\n",
    "                                    data_dir=xpu('~/../../data/neuromod/DATA/DiFuMo/'),\n",
    "                                    resume=True,\n",
    "                                    verbose=1)"
   ]
  },
  {
   "cell_type": "code",
   "execution_count": 36,
   "id": "40574355",
   "metadata": {},
   "outputs": [],
   "source": [
    "labels_masker_params = dict(mask_img=subject00.mar_epi_mask,\n",
    "                            labels_img=mean_img(difumo64.maps),\n",
    "                            labels=difumo64.labels,\n",
    "                            background_label=0,\n",
    "                            resampling_target='data',\n",
    "                            strategy='mean',\n",
    "                            reports=True,\n",
    "                            **subject00.common_masker_params)\n",
    "\n",
    "maps_masker_params = dict(mask_img=subject00.mar_epi_mask,\n",
    "                          maps_img=difumo64.maps,\n",
    "                          allow_overlap=True,\n",
    "                          resampling_target='mask',\n",
    "                          **subject00.common_masker_params)"
   ]
  },
  {
   "cell_type": "code",
   "execution_count": 51,
   "id": "d96c53a8",
   "metadata": {},
   "outputs": [],
   "source": [
    "subject00.labels_masker = \\\n",
    "    nilearn.input_data.NiftiLabelsMasker(**labels_masker_params).fit()\n",
    "subject00.maps_masker = \\\n",
    "    nilearn.input_data.NiftiMapsMasker(**maps_masker_params).fit()"
   ]
  },
  {
   "cell_type": "code",
   "execution_count": 55,
   "id": "24978eab",
   "metadata": {},
   "outputs": [],
   "source": [
    "subject00.region_signals = subject00.maps_masker.transform_single_imgs(imgs=subject00.masked_func)\n",
    "subject00.transformed_func = subject00.maps_masker.inverse_transform(subject00.iverse_maps_transform)"
   ]
  },
  {
   "cell_type": "code",
   "execution_count": 56,
   "id": "40ab963d",
   "metadata": {},
   "outputs": [
    {
     "data": {
      "text/plain": [
       "<nilearn.plotting.displays.OrthoSlicer at 0x7f424c2472d0>"
      ]
     },
     "execution_count": 56,
     "metadata": {},
     "output_type": "execute_result"
    },
    {
     "data": {
      "image/png": "[encoded data removed]",
      "text/plain": [
       "<Figure size 475.2x187.2 with 4 Axes>"
      ]
     },
     "metadata": {},
     "output_type": "display_data"
    }
   ],
   "source": [
    "# Import Region Extractor algorithm from regions module\n",
    "# threshold=0.5 indicates that we keep nominal of amount nonzero voxels across all\n",
    "# maps, less the threshold means that more intense non-voxels will be survived.\n",
    "from nilearn.regions import RegionExtractor\n",
    "\n",
    "extractor = RegionExtractor(subject00.transformed_func,\n",
    "#     dictlearn00.components_img_,\n",
    "                            threshold=0.5,\n",
    "                            thresholding_strategy='ratio_n_voxels',\n",
    "                            extractor='local_regions',\n",
    "                            standardize=True,\n",
    "                            min_region_size=1350)\n",
    "# Just call fit() to process for regions extraction\n",
    "extractor.fit()\n",
    "# Extracted regions are stored in regions_img_\n",
    "regions_extracted_img = extractor.regions_img_\n",
    "# Each region index is stored in index_\n",
    "regions_index = extractor.index_\n",
    "# Total number of regions extracted\n",
    "n_regions_extracted = regions_extracted_img.shape[-1]\n",
    "\n",
    "# Visualization of region extraction results\n",
    "title = ('%d regions are extracted from %d components.'\n",
    "         '\\nEach separate color of region indicates extracted region'\n",
    "         % (n_regions_extracted, 8))\n",
    "plotting.plot_prob_atlas(regions_extracted_img, view_type='filled_contours',\n",
    "                         title=title)"
   ]
  },
  {
   "cell_type": "code",
   "execution_count": 44,
   "id": "f714d69b",
   "metadata": {},
   "outputs": [],
   "source": [
    "subject00.intersect_masker = nilearn.masking.intersect_masks(\n",
    "                                mask_imgs=[\n",
    "                                    subject00.labels_masker.mask_img,\n",
    "                                    subject00.maps_masker.mask_img,\n",
    "                                    subject00.nifti_masker.mask_img],\n",
    "                                                             threshold=0.5,\n",
    "                                                             connected=True)"
   ]
  },
  {
   "cell_type": "code",
   "execution_count": 38,
   "id": "27a66841",
   "metadata": {},
   "outputs": [
    {
     "ename": "KeyboardInterrupt",
     "evalue": "",
     "output_type": "error",
     "traceback": [
      "\u001b[0;31m---------------------------------------------------------------------------\u001b[0m",
      "\u001b[0;31mKeyboardInterrupt\u001b[0m                         Traceback (most recent call last)",
      "\u001b[0;32m/tmp/ipykernel_9844/2029847581.py\u001b[0m in \u001b[0;36m<module>\u001b[0;34m\u001b[0m\n\u001b[1;32m      1\u001b[0m \u001b[0msubject00\u001b[0m\u001b[0;34m.\u001b[0m\u001b[0mlabels_masker\u001b[0m\u001b[0;34m.\u001b[0m\u001b[0mfit\u001b[0m\u001b[0;34m(\u001b[0m\u001b[0;34m)\u001b[0m\u001b[0;34m\u001b[0m\u001b[0;34m\u001b[0m\u001b[0m\n\u001b[0;32m----> 2\u001b[0;31m \u001b[0msubject00\u001b[0m\u001b[0;34m.\u001b[0m\u001b[0mmaps_masker\u001b[0m\u001b[0;34m.\u001b[0m\u001b[0mfit\u001b[0m\u001b[0;34m(\u001b[0m\u001b[0;34m)\u001b[0m\u001b[0;34m\u001b[0m\u001b[0;34m\u001b[0m\u001b[0m\n\u001b[0m\u001b[1;32m      3\u001b[0m \u001b[0;31m# subject00.nifti_masker.fit()\u001b[0m\u001b[0;34m\u001b[0m\u001b[0;34m\u001b[0m\u001b[0;34m\u001b[0m\u001b[0m\n",
      "\u001b[0;32m~/myenv/lib/python3.7/site-packages/nilearn/input_data/nifti_maps_masker.py\u001b[0m in \u001b[0;36mfit\u001b[0;34m(self, X, y)\u001b[0m\n\u001b[1;32m    195\u001b[0m         self.maps_img_ = image.clean_img(self.maps_img_, detrend=False,\n\u001b[1;32m    196\u001b[0m                                          \u001b[0mstandardize\u001b[0m\u001b[0;34m=\u001b[0m\u001b[0;32mFalse\u001b[0m\u001b[0;34m,\u001b[0m\u001b[0;34m\u001b[0m\u001b[0;34m\u001b[0m\u001b[0m\n\u001b[0;32m--> 197\u001b[0;31m                                          ensure_finite=True)\n\u001b[0m\u001b[1;32m    198\u001b[0m         \u001b[0;32mif\u001b[0m \u001b[0mself\u001b[0m\u001b[0;34m.\u001b[0m\u001b[0mmask_img\u001b[0m \u001b[0;32mis\u001b[0m \u001b[0;32mnot\u001b[0m \u001b[0;32mNone\u001b[0m\u001b[0;34m:\u001b[0m\u001b[0;34m\u001b[0m\u001b[0;34m\u001b[0m\u001b[0m\n\u001b[1;32m    199\u001b[0m             logger.log(\"loading mask from %s\" %\n",
      "\u001b[0;32m~/myenv/lib/python3.7/site-packages/nilearn/image/image.py\u001b[0m in \u001b[0;36mclean_img\u001b[0;34m(imgs, sessions, detrend, standardize, confounds, low_pass, high_pass, t_r, ensure_finite, mask_img)\u001b[0m\n\u001b[1;32m   1055\u001b[0m         \u001b[0msignals\u001b[0m\u001b[0;34m,\u001b[0m \u001b[0msessions\u001b[0m\u001b[0;34m=\u001b[0m\u001b[0msessions\u001b[0m\u001b[0;34m,\u001b[0m \u001b[0mdetrend\u001b[0m\u001b[0;34m=\u001b[0m\u001b[0mdetrend\u001b[0m\u001b[0;34m,\u001b[0m \u001b[0mstandardize\u001b[0m\u001b[0;34m=\u001b[0m\u001b[0mstandardize\u001b[0m\u001b[0;34m,\u001b[0m\u001b[0;34m\u001b[0m\u001b[0;34m\u001b[0m\u001b[0m\n\u001b[1;32m   1056\u001b[0m         \u001b[0mconfounds\u001b[0m\u001b[0;34m=\u001b[0m\u001b[0mconfounds\u001b[0m\u001b[0;34m,\u001b[0m \u001b[0mlow_pass\u001b[0m\u001b[0;34m=\u001b[0m\u001b[0mlow_pass\u001b[0m\u001b[0;34m,\u001b[0m \u001b[0mhigh_pass\u001b[0m\u001b[0;34m=\u001b[0m\u001b[0mhigh_pass\u001b[0m\u001b[0;34m,\u001b[0m \u001b[0mt_r\u001b[0m\u001b[0;34m=\u001b[0m\u001b[0mt_r\u001b[0m\u001b[0;34m,\u001b[0m\u001b[0;34m\u001b[0m\u001b[0;34m\u001b[0m\u001b[0m\n\u001b[0;32m-> 1057\u001b[0;31m         ensure_finite=ensure_finite)\n\u001b[0m\u001b[1;32m   1058\u001b[0m \u001b[0;34m\u001b[0m\u001b[0m\n\u001b[1;32m   1059\u001b[0m     \u001b[0;31m# Put results back into Niimg-like object\u001b[0m\u001b[0;34m\u001b[0m\u001b[0;34m\u001b[0m\u001b[0;34m\u001b[0m\u001b[0m\n",
      "\u001b[0;32m~/myenv/lib/python3.7/site-packages/nilearn/_utils/helpers.py\u001b[0m in \u001b[0;36mwrapper\u001b[0;34m(*args, **kwargs)\u001b[0m\n\u001b[1;32m     38\u001b[0m                                                      \u001b[0mkwargs\u001b[0m\u001b[0;34m\u001b[0m\u001b[0;34m\u001b[0m\u001b[0m\n\u001b[1;32m     39\u001b[0m                                                      )\n\u001b[0;32m---> 40\u001b[0;31m             \u001b[0;32mreturn\u001b[0m \u001b[0mfunc\u001b[0m\u001b[0;34m(\u001b[0m\u001b[0;34m*\u001b[0m\u001b[0margs\u001b[0m\u001b[0;34m,\u001b[0m \u001b[0;34m**\u001b[0m\u001b[0mkwargs\u001b[0m\u001b[0;34m)\u001b[0m\u001b[0;34m\u001b[0m\u001b[0;34m\u001b[0m\u001b[0m\n\u001b[0m\u001b[1;32m     41\u001b[0m \u001b[0;34m\u001b[0m\u001b[0m\n\u001b[1;32m     42\u001b[0m         \u001b[0;32mreturn\u001b[0m \u001b[0mwrapper\u001b[0m\u001b[0;34m\u001b[0m\u001b[0;34m\u001b[0m\u001b[0m\n",
      "\u001b[0;32m~/myenv/lib/python3.7/site-packages/nilearn/signal.py\u001b[0m in \u001b[0;36mclean\u001b[0;34m(signals, runs, detrend, standardize, sample_mask, confounds, standardize_confounds, filter, low_pass, high_pass, t_r, ensure_finite)\u001b[0m\n\u001b[1;32m    579\u001b[0m     \u001b[0;32melse\u001b[0m\u001b[0;34m:\u001b[0m\u001b[0;34m\u001b[0m\u001b[0;34m\u001b[0m\u001b[0m\n\u001b[1;32m    580\u001b[0m         signals = _standardize(signals, standardize=standardize,\n\u001b[0;32m--> 581\u001b[0;31m                                detrend=False)\n\u001b[0m\u001b[1;32m    582\u001b[0m \u001b[0;34m\u001b[0m\u001b[0m\n\u001b[1;32m    583\u001b[0m     \u001b[0;32mreturn\u001b[0m \u001b[0msignals\u001b[0m\u001b[0;34m\u001b[0m\u001b[0;34m\u001b[0m\u001b[0m\n",
      "\u001b[0;32m~/myenv/lib/python3.7/site-packages/nilearn/signal.py\u001b[0m in \u001b[0;36m_standardize\u001b[0;34m(signals, detrend, standardize)\u001b[0m\n\u001b[1;32m     58\u001b[0m         \u001b[0msignals\u001b[0m \u001b[0;34m=\u001b[0m \u001b[0m_detrend\u001b[0m\u001b[0;34m(\u001b[0m\u001b[0msignals\u001b[0m\u001b[0;34m,\u001b[0m \u001b[0minplace\u001b[0m\u001b[0;34m=\u001b[0m\u001b[0;32mFalse\u001b[0m\u001b[0;34m)\u001b[0m\u001b[0;34m\u001b[0m\u001b[0;34m\u001b[0m\u001b[0m\n\u001b[1;32m     59\u001b[0m     \u001b[0;32melse\u001b[0m\u001b[0;34m:\u001b[0m\u001b[0;34m\u001b[0m\u001b[0;34m\u001b[0m\u001b[0m\n\u001b[0;32m---> 60\u001b[0;31m         \u001b[0msignals\u001b[0m \u001b[0;34m=\u001b[0m \u001b[0msignals\u001b[0m\u001b[0;34m.\u001b[0m\u001b[0mcopy\u001b[0m\u001b[0;34m(\u001b[0m\u001b[0;34m)\u001b[0m\u001b[0;34m\u001b[0m\u001b[0;34m\u001b[0m\u001b[0m\n\u001b[0m\u001b[1;32m     61\u001b[0m \u001b[0;34m\u001b[0m\u001b[0m\n\u001b[1;32m     62\u001b[0m     \u001b[0;32mif\u001b[0m \u001b[0mstandardize\u001b[0m\u001b[0;34m:\u001b[0m\u001b[0;34m\u001b[0m\u001b[0;34m\u001b[0m\u001b[0m\n",
      "\u001b[0;31mKeyboardInterrupt\u001b[0m: "
     ]
    }
   ],
   "source": [
    "subject00.labels_masker = subject00.labels_masker.fit()\n",
    "subject00.maps_masker = subject00.maps_masker.fit()\n",
    "# subject00.nifti_masker.fit()"
   ]
  },
  {
   "cell_type": "code",
   "execution_count": 55,
   "id": "43413653",
   "metadata": {},
   "outputs": [
    {
     "data": {
      "text/plain": [
       "array([[ 0.57458895,  1.5232489 , -1.163626  , ..., -0.79742724,\n",
       "         0.5229081 , -0.25215945],\n",
       "       [-0.02406906,  0.49221098,  0.2974992 , ...,  0.28419292,\n",
       "        -0.8103598 , -1.2973716 ],\n",
       "       [-1.5932693 ,  0.19446294,  0.0668083 , ...,  0.11127728,\n",
       "        -0.897055  ,  0.76129246],\n",
       "       ...,\n",
       "       [ 1.1595376 , -0.42601854, -1.3011167 , ...,  2.1020043 ,\n",
       "         0.5134531 ,  1.4599885 ],\n",
       "       [ 1.015209  , -0.1707107 ,  1.3605003 , ..., -0.99279004,\n",
       "        -1.5078783 ,  0.45144024],\n",
       "       [-0.40941462,  0.80900216, -1.0067695 , ..., -0.2410157 ,\n",
       "        -0.4109171 , -0.3521069 ]], dtype=float32)"
      ]
     },
     "execution_count": 55,
     "metadata": {},
     "output_type": "execute_result"
    }
   ],
   "source": [
    "subject00.maps_masker.fit_transform(imgs=subject00.mar_scans.func[1][0],\n",
    "                                    confounds=subject00.confounds)"
   ]
  },
  {
   "cell_type": "code",
   "execution_count": 62,
   "id": "0369f481",
   "metadata": {},
   "outputs": [
    {
     "data": {
      "text/plain": [
       "array([[-1.9195195 , -1.2250324 , -2.4721758 , ...,  0.99940413,\n",
       "        -2.0528557 , -0.21037003],\n",
       "       [-0.3128216 ,  0.44713512,  1.6003859 , ...,  0.9921076 ,\n",
       "         0.7278348 , -0.55972487],\n",
       "       [-0.02466464,  0.42546874, -0.12856703, ..., -1.7234371 ,\n",
       "         0.99197626,  1.3513002 ],\n",
       "       ...,\n",
       "       [ 0.06007574,  1.0216044 ,  0.36061296, ..., -0.14905176,\n",
       "         0.33939186,  0.21578191],\n",
       "       [-0.7722185 ,  0.14607999, -0.6053427 , ..., -1.1400565 ,\n",
       "        -1.1196241 , -1.6799748 ],\n",
       "       [ 1.0257673 ,  0.8699601 ,  0.0760558 , ..., -0.57190746,\n",
       "        -0.33897656, -0.71684873]], dtype=float32)"
      ]
     },
     "execution_count": 62,
     "metadata": {},
     "output_type": "execute_result"
    }
   ],
   "source": [
    "subject00.nifti_masker.fit_transform(X=subject00.mar_scans.func[1][0],\n",
    "                                     y=None,\n",
    "                                     confounds=subject00.confounds)"
   ]
  },
  {
   "cell_type": "code",
   "execution_count": 56,
   "id": "59e844b3",
   "metadata": {},
   "outputs": [],
   "source": [
    "subject00.maps_region_signals = \\\n",
    "    subject00.maps_masker.transform_single_imgs(imgs=subject00.mar_scans.func[1][0],\n",
    "                                                confounds=subject00.confounds,\n",
    "                                                sample_mask=None)"
   ]
  },
  {
   "cell_type": "code",
   "execution_count": 57,
   "id": "9fbf32fe",
   "metadata": {},
   "outputs": [],
   "source": [
    "subject00.elements_region_signals = \\\n",
    "    subject00.maps_masker.transform(imgs=subject00.mar_scans.func[1][0],\n",
    "                                    confounds=subject00.confounds,\n",
    "                                    sample_mask=None)"
   ]
  },
  {
   "cell_type": "code",
   "execution_count": 58,
   "id": "5ded68eb",
   "metadata": {},
   "outputs": [],
   "source": [
    "subject00.maps_components_img = \\\n",
    "    subject00.maps_masker.inverse_transform(subject00.maps_region_signals)"
   ]
  },
  {
   "cell_type": "code",
   "execution_count": 59,
   "id": "392c2cc7",
   "metadata": {},
   "outputs": [],
   "source": [
    "subject00.elements_components_img = \\\n",
    "    subject00.maps_masker.inverse_transform(subject00.elements_region_signals)"
   ]
  },
  {
   "cell_type": "code",
   "execution_count": 71,
   "id": "c0f2202b",
   "metadata": {},
   "outputs": [
    {
     "data": {
      "text/plain": [
       "<nilearn.plotting.displays.OrthoSlicer at 0x7f115c2bcdd0>"
      ]
     },
     "metadata": {},
     "output_type": "display_data"
    },
    {
     "data": {
      "text/plain": [
       "<nilearn.plotting.displays.OrthoSlicer at 0x7f115c405890>"
      ]
     },
     "metadata": {},
     "output_type": "display_data"
    },
    {
     "data": {
      "image/png": "[encoded data removed]",
      "text/plain": [
       "<Figure size 475.2x187.2 with 4 Axes>"
      ]
     },
     "metadata": {},
     "output_type": "display_data"
    },
    {
     "data": {
      "image/png": "[encoded data removed]",
      "text/plain": [
       "<Figure size 475.2x187.2 with 4 Axes>"
      ]
     },
     "metadata": {},
     "output_type": "display_data"
    }
   ],
   "source": [
    "display(plot_img(mean_img(subject00.maps_components_img),\n",
    "                 title='maps_masker signal',\n",
    "                 cut_coords=(-5,-5,15)),\n",
    "        plot_img(mean_img(subject00.elements_components_img),\n",
    "                 title='elements_masker signal',\n",
    "                 cut_coords=(-5,-5,15)))"
   ]
  },
  {
   "cell_type": "code",
   "execution_count": 15,
   "id": "1ed6b7b8",
   "metadata": {},
   "outputs": [
    {
     "name": "stdout",
     "output_type": "stream",
     "text": [
      "woof woof\n"
     ]
    },
    {
     "ename": "TypeError",
     "evalue": "resample_fmri_to_events() missing 1 required positional argument: 'fmri_img'",
     "output_type": "error",
     "traceback": [
      "\u001b[0;31m---------------------------------------------------------------------------\u001b[0m",
      "\u001b[0;31mTypeError\u001b[0m                                 Traceback (most recent call last)",
      "\u001b[0;32m/tmp/ipykernel_3892/853250997.py\u001b[0m in \u001b[0;36m<module>\u001b[0;34m\u001b[0m\n\u001b[1;32m     12\u001b[0m \u001b[0mfido\u001b[0m \u001b[0;34m=\u001b[0m \u001b[0mdog\u001b[0m\u001b[0;34m(\u001b[0m\u001b[0mname\u001b[0m\u001b[0;34m=\u001b[0m\u001b[0;34m'fido'\u001b[0m\u001b[0;34m,\u001b[0m\u001b[0mage\u001b[0m\u001b[0;34m=\u001b[0m\u001b[0;36m4\u001b[0m\u001b[0;34m)\u001b[0m\u001b[0;34m\u001b[0m\u001b[0;34m\u001b[0m\u001b[0m\n\u001b[1;32m     13\u001b[0m \u001b[0mfido\u001b[0m\u001b[0;34m.\u001b[0m\u001b[0mbark\u001b[0m\u001b[0;34m(\u001b[0m\u001b[0msound\u001b[0m\u001b[0;34m=\u001b[0m\u001b[0;34m'woof woof'\u001b[0m\u001b[0;34m)\u001b[0m\u001b[0;34m\u001b[0m\u001b[0;34m\u001b[0m\u001b[0m\n\u001b[0;32m---> 14\u001b[0;31m \u001b[0mfido\u001b[0m\u001b[0;34m.\u001b[0m\u001b[0mresample_fmri_to_events\u001b[0m\u001b[0;34m(\u001b[0m\u001b[0;34m)\u001b[0m\u001b[0;34m\u001b[0m\u001b[0;34m\u001b[0m\u001b[0m\n\u001b[0m",
      "\u001b[0;31mTypeError\u001b[0m: resample_fmri_to_events() missing 1 required positional argument: 'fmri_img'"
     ]
    }
   ],
   "source": [
    "# list(subject00.__dict__.keys())\n",
    "# subject00.clean_func\n",
    "# help(nilearn.image.clean_img)\n",
    "class dog():\n",
    "    def __init__(self, name:str, age:Union[int,float]):\n",
    "        self.name = name\n",
    "        self.age = age\n",
    "        self.resample_fmri_to_events = cimaqprep.resample_fmri_to_events\n",
    "    def bark(self, sound:str):\n",
    "        print(sound)\n",
    "    \n",
    "fido = dog(name='fido',age=4)\n",
    "fido.bark(sound='woof woof')\n",
    "# fido.resample_fmri_to_events()"
   ]
  },
  {
   "cell_type": "code",
   "execution_count": 21,
   "id": "7015426f",
   "metadata": {},
   "outputs": [
    {
     "data": {
      "text/plain": [
       "{'smoothing_fwhm': 9,\n",
       " 'standardize': True,\n",
       " 'high_variance_confounds': True,\n",
       " 'detrend': True,\n",
       " 'high_pass': 0.09,\n",
       " 'low_pass': 0.21,\n",
       " 't_r': 2.5,\n",
       " 'dtype': None,\n",
       " 'memory_level': 1,\n",
       " 'verbose': 0}"
      ]
     },
     "execution_count": 21,
     "metadata": {},
     "output_type": "execute_result"
    }
   ],
   "source": [
    "subject00.common_masker_params"
   ]
  },
  {
   "cell_type": "code",
   "execution_count": 45,
   "id": "9bf33ace",
   "metadata": {},
   "outputs": [],
   "source": [
    "def get_dictlearn_params(subject:object, **kwargs)->dict:\n",
    "    mask_args00 = \\\n",
    "    {'allow_overlap': True,\n",
    "     'resampling_target': 'mask',\n",
    "     **subject00.common_masker_params}\n",
    "#      'bg_img':mean_img(anat00)}\n",
    "    dictlearn_params = \\\n",
    "        {'mask':subject00.intersect_masker,\n",
    "         'n_components': 10,\n",
    "         'n_epochs': subject00.events.iloc[3:-1,:].shape[0],\n",
    "         'alpha': 10,\n",
    "         'reduction_ratio': 'auto',\n",
    "#          'dict_init': None,\n",
    "         'dict_init': difumo64.maps,\n",
    "         'random_state': None,\n",
    "         'batch_size': 2,\n",
    "         'method': 'cd',\n",
    "         'mask': subject00.nifti_masker.mask_img,\n",
    "         'smoothing_fwhm':9,\n",
    "#          'smoothing_fwhm': dict(nib.load(subject.mar_scans.anat[1][0]).header)['pixdim'][1]*3,\n",
    "         'standardize': True,\n",
    "         'detrend': False,\n",
    "#          'low_pass': 0.21,\n",
    "#          'low_pass':1.0,\n",
    "#          'high_pass': 0.09,\n",
    "         't_r': subject.t_r,\n",
    "#          'target_affine': subject00.masker.target_affine,\n",
    "#          'target_shape': subject00.masker.target_shape,\n",
    "         'mask_strategy': 'epi'}\n",
    "#          'mask_args':mask_args00}\n",
    "    return dictlearn_params\n",
    "dictlearn_params00=get_dictlearn_params(subject00)"
   ]
  },
  {
   "cell_type": "code",
   "execution_count": 46,
   "id": "0b5324f8",
   "metadata": {},
   "outputs": [],
   "source": [
    "dictlearn00 = \\\n",
    "    nilearn.decomposition.DictLearning(**dictlearn_params00)"
   ]
  },
  {
   "cell_type": "code",
   "execution_count": 50,
   "id": "d0aae6b8",
   "metadata": {},
   "outputs": [
    {
     "ename": "TypeError",
     "evalue": "fit() missing 1 required positional argument: 'imgs'",
     "output_type": "error",
     "traceback": [
      "\u001b[0;31m---------------------------------------------------------------------------\u001b[0m",
      "\u001b[0;31mTypeError\u001b[0m                                 Traceback (most recent call last)",
      "\u001b[0;32m/tmp/ipykernel_9844/3140070234.py\u001b[0m in \u001b[0;36m<module>\u001b[0;34m\u001b[0m\n\u001b[0;32m----> 1\u001b[0;31m \u001b[0mdictlearn00\u001b[0m \u001b[0;34m=\u001b[0m \u001b[0mdictlearn00\u001b[0m\u001b[0;34m.\u001b[0m\u001b[0mfit\u001b[0m\u001b[0;34m(\u001b[0m\u001b[0;34m)\u001b[0m\u001b[0;34m\u001b[0m\u001b[0;34m\u001b[0m\u001b[0m\n\u001b[0m\u001b[1;32m      2\u001b[0m \u001b[0;31m#     y=difumo64.labels,\u001b[0m\u001b[0;34m\u001b[0m\u001b[0;34m\u001b[0m\u001b[0;34m\u001b[0m\u001b[0m\n\u001b[1;32m      3\u001b[0m \u001b[0;31m#     confounds=subject00.confounds)\u001b[0m\u001b[0;34m\u001b[0m\u001b[0;34m\u001b[0m\u001b[0;34m\u001b[0m\u001b[0m\n",
      "\u001b[0;31mTypeError\u001b[0m: fit() missing 1 required positional argument: 'imgs'"
     ]
    }
   ],
   "source": [
    "dictlearn00 = dictlearn00.fit()\n",
    "#     y=difumo64.labels,\n",
    "#     confounds=subject00.confounds)"
   ]
  },
  {
   "cell_type": "code",
   "execution_count": null,
   "id": "1dba9d42",
   "metadata": {},
   "outputs": [],
   "source": [
    "subject00.loadings = dictlearn00.transform(imgs=subject00.masked_func)\n"
   ]
  },
  {
   "cell_type": "code",
   "execution_count": null,
   "id": "e33393f8",
   "metadata": {},
   "outputs": [],
   "source": [
    "nilearn.plotting.plot_prob_atlas(dictlearn00.components_img_,\n",
    "                                 view_type='filled_contours')"
   ]
  },
  {
   "cell_type": "code",
   "execution_count": 315,
   "id": "b028f1c8",
   "metadata": {},
   "outputs": [],
   "source": [
    "anat_bg_mask = \\\n",
    "    nilearn.masking.compute_background_mask(data_imgs=concat_imgs(subject00.mar_scans.anat[1],\n",
    "                                                                  auto_resample=True),\n",
    "                                            border_size=2,\n",
    "                                            connected=False,\n",
    "                                            opening=True,\n",
    "                                            target_affine=subject00.mar_epi_mask.affine,\n",
    "                                            target_shape=subject00.mar_epi_mask.shape,\n",
    "                                            memory=None,\n",
    "                                            verbose=0)"
   ]
  },
  {
   "cell_type": "code",
   "execution_count": 316,
   "id": "ff72cfd1",
   "metadata": {},
   "outputs": [
    {
     "name": "stderr",
     "output_type": "stream",
     "text": [
      "Resampling fMRI volumes to epi mask: 100%|████████| 5/5 [00:05<00:00,  1.07s/it]\n"
     ]
    }
   ],
   "source": [
    "anat00 = cimaqprep.resample_fmri_to_mask(concat_imgs(subject00.mar_scans.anat[1],\n",
    "                                                     auto_resample=True),\n",
    "                                         subject00.masker.mask_img)\n",
    "# subject00.masker.mask_img == subject00.masker.mask_img_"
   ]
  },
  {
   "cell_type": "code",
   "execution_count": 221,
   "id": "05bf15fb",
   "metadata": {},
   "outputs": [
    {
     "data": {
      "text/plain": [
       "FirstLevelModel(hrf_model='spm',\n",
       "                mask_img=<nibabel.nifti1.Nifti1Image object at 0x7faeffea32d0>,\n",
       "                min_onset=28.56, minimize_memory=False, noise_model='ols',\n",
       "                signal_scaling=True, smoothing_fwhm=9.0,\n",
       "                subject_label='sub-178101', t_r=2.499999)"
      ]
     },
     "execution_count": 221,
     "metadata": {},
     "output_type": "execute_result"
    }
   ],
   "source": [
    "common_glm_matrix_params = \\\n",
    "    {'hrf_model':'spm + derivative',\n",
    "     'drift_model':'cosine',\n",
    "     'high_pass':0.09,\n",
    "     'drift_order':1,\n",
    "     'fir_delays':[0],\n",
    "     'min_onset':0}\n",
    "def make_glm_and_matrix(subject:object, **kwargs):\n",
    "    # smoothing fwhm value criterion\n",
    "    '''\n",
    "    Source: http://jpeelle.net/mri/image_processing/smoothing.html\n",
    "    One common rule of thumb is that, to render your data approximately normal,\n",
    "    you should smooth with a Gaussian filter approximately three times the size of your voxel.\n",
    "    If your voxel size is 3 x 3 x 3 mm, you would smooth with a 9 mm FWHM Gaussian filter.\n",
    "    \n",
    "    hrf_models available: # ['glover', 'spm', 'spm + derivative', 'spm + derivative + dispersion',\n",
    "                             'glover + derivative', 'glover + derivative + dispersion', 'fir', None]\n",
    "    '''\n",
    "\n",
    "    from nilearn.glm.first_level import FirstLevelModel\n",
    "    from nilearn.glm.first_level import make_first_level_design_matrix\n",
    "    first_level_model = FirstLevelModel(t_r=subject.t_r,\n",
    "                                          slice_time_ref=0.0,\n",
    "                                          hrf_model='spm', \n",
    "                                          drift_model='cosine', # Can be 'polynomial', 'cosine' or None. Default='cosine'.\n",
    "#                                           high_pass=0.09,\n",
    "#                                           low_pass=0.21,\n",
    "                                          drift_order=1, # Default\n",
    "                                          fir_delays=[0], # Default\n",
    "                                          min_onset=subject.events.onset[3],\n",
    "                                          mask_img=subject.mar_epi_mask,\n",
    "    #                                     target_affine=subject.mar_epi_mask.affine,\n",
    "    #                                     target_shape=subject.mar_epi_mask.shape,\n",
    "                                          smoothing_fwhm=dict(nib.load(subject.mar_scans.func[1][0]).header)['pixdim'][1]*3,\n",
    "    #                                     memory=Memory(location=None),\n",
    "                                          memory_level=1,\n",
    "                                          standardize=True,\n",
    "                                          signal_scaling=0,\n",
    "                                          noise_model='ols',\n",
    "                                          verbose=0, n_jobs=1,\n",
    "                                          minimize_memory=False,\n",
    "                                          subject_label=subject.sub_id[0])\n",
    "#                                           **kwargs)\n",
    "    # Create First Level Design Matrix\n",
    "    fmri_design_matrix = \\\n",
    "        make_first_level_design_matrix(\n",
    "    #         frame_times=train.dropna()[0],\n",
    "            frame_times=subject.resampled_frame_times[3:-1],\n",
    "    #         frame_times=np.arange(0, subject.frame_times.max(),\n",
    "    #                                           subject.frame_times.max()/subject.events.shape[0]),\n",
    "    #         events=subject.events[['onset','duration','trial_type']],\n",
    "            events=subject.events.iloc[3:-1,:][['onset','duration','outcomes']].rename(columns=({'outcomes':'trial_type'})),\n",
    "            hrf_model='spm',\n",
    "            drift_model='cosine',\n",
    "#             high_pass=0.01,\n",
    "            drift_order=1,\n",
    "            fir_delays=[0],\n",
    "    #         add_regs=subject.resampled_confounds.fillna(0).values,\n",
    "    #         add_reg_names=list(col.replace('.','_') for col in subject.resampled_confounds.columns),\n",
    "            oversampling=1)\n",
    "#             **kwargs)\n",
    "    return first_level_model, fmri_design_matrix\n",
    "first_level_model00, fmri_design_matrix00 = \\\n",
    "     make_glm_and_matrix(subject=subject00,**common_glm_matrix_params)\n",
    "\n",
    "# Define desired contrasts names\n",
    "new_contrast_names = list(str((itm[0],'- '+itm[1]))[1:-1].replace(\n",
    "    \"'\",'').replace(',','') for itm in\n",
    "     itertools.combinations([col for col in\n",
    "                             list(fmri_design_matrix00.columns)\n",
    "                             if 'drift' not in col],2))\n",
    "new_contrast_names = [name.replace('.','_') for name in new_contrast_names]\n",
    "contrast_params =\\\n",
    "{       'contrasts':list(fmri_design_matrix00.columns)[:4]+new_contrast_names,\n",
    "#              +new_contrast_names,\n",
    "        'title':None,\n",
    "#         'bg_img':subject00.mar_epi_mask,\n",
    "#         'bg_img':mean_img(difumo64.maps)\n",
    "        'bg_img':subject00.mar_scans.anat[1][2],\n",
    "        'threshold':3.09,\n",
    "        'alpha':0.001,\n",
    "        'cluster_threshold':3,\n",
    "        'height_control':'fpr',\n",
    "        'min_distance':3.0,\n",
    "        'plot_type':'slice',\n",
    "#         'display_mode':None,\n",
    "#         'report_dims':(1600, 800)\n",
    "}\n",
    "# Model Fitting\n",
    "\n",
    "first_level_model00.fit(run_imgs=concat_imgs(list(iter_img(subject00.cleaned_func))[3:-1]),\n",
    "#                       events=subject00.events[['onset','duration','outcomes']].rename(columns={'outcomes':'trial_type'}),\n",
    "#                       confounds=subject_data.confounds,\n",
    "                      design_matrices=fmri_design_matrix00,\n",
    "                      bins=fmri_design_matrix00.shape[0])\n",
    "# report00 = first_level_model00.generate_report(**contrast_params)\n"
   ]
  },
  {
   "cell_type": "code",
   "execution_count": 288,
   "id": "7cb78ebc",
   "metadata": {},
   "outputs": [
    {
     "name": "stderr",
     "output_type": "stream",
     "text": [
      "computing contrasts: 100%|██████████████████████| 15/15 [00:14<00:00,  1.03it/s]\n"
     ]
    }
   ],
   "source": [
    "contrasts00 = \\\n",
    "    [first_level_model00.compute_contrast(contrast_def=key,\n",
    "                                     output_type='all')\n",
    "     for key in tqdm(list(basic_contrasts00.keys()),\n",
    "                     desc='computing contrasts')]"
   ]
  },
  {
   "cell_type": "code",
   "execution_count": 164,
   "id": "1370baa8",
   "metadata": {},
   "outputs": [],
   "source": [
    "import nilearn.decoding\n",
    "from sklearn.model_selection import KFold\n",
    "cv = KFold(n_splits=4)\n",
    "searchlight = nilearn.decoding.SearchLight(mask_img=subject00.mar_epi_mask,\n",
    "                                           process_mask_img=process_mask_img,\n",
    "                                           radius=4.5,\n",
    "                                           estimator='svc',\n",
    "                                           n_jobs=1,\n",
    "                                           scoring=None,\n",
    "                                           cv=cv,\n",
    "                                           verbose=1)"
   ]
  },
  {
   "cell_type": "code",
   "execution_count": 4,
   "id": "af9730ca",
   "metadata": {},
   "outputs": [],
   "source": [
    "searchlight.fit(imgs=concat_imgs(list(iter_img(subject00.cleaned_func))[3:-1]),\n",
    "                y=subject00.events.iloc[3:-1,:]['outcomes'].values.tolist())\n",
    "# help(nilearn.decoding.SearchLight)"
   ]
  },
  {
   "cell_type": "code",
   "execution_count": 170,
   "id": "f8289f76",
   "metadata": {},
   "outputs": [],
   "source": [
    "# F-score computation\n",
    "from nilearn.input_data import NiftiMasker\n",
    "\n",
    "# For decoding, standardizing is often very important\n",
    "nifti_masker = NiftiMasker(mask_img=mask_img, sessions=None,\n",
    "                           standardize=True)\n",
    "#                            memory='nilearn_cache',\n",
    "#                            memory_level=1)\n",
    "fmri_masked = nifti_masker.fit_transform(concat_imgs(list(iter_img(subject00.cleaned_func))[3:-1]))"
   ]
  },
  {
   "cell_type": "code",
   "execution_count": 173,
   "id": "c54807a2",
   "metadata": {},
   "outputs": [],
   "source": [
    "\n",
    "\n",
    "from sklearn.feature_selection import f_classif\n",
    "f_values, p_values = f_classif(fmri_masked, y=subject00.events.iloc[3:-1,:]['outcomes'].values.tolist())\n",
    "p_values = -np.log10(p_values)\n",
    "p_values[p_values > 10] = 10\n",
    "p_unmasked = nilearn.image.get_data(nifti_masker.inverse_transform(p_values))\n",
    "\n"
   ]
  },
  {
   "cell_type": "code",
   "execution_count": 197,
   "id": "28f2cad2",
   "metadata": {},
   "outputs": [],
   "source": [
    "subject00_resampled_anat = [(bname(anat_img), nilearn.image.resample_img(img=anat_img,\n",
    "                                                       target_affine=subject00.mar_epi_mask.affine,\n",
    "                                                       target_shape=subject00.mar_epi_mask.shape,\n",
    "                                                       interpolation='continuous',\n",
    "                                                       copy=True, order='F', clip=True,\n",
    "                                                       fill_value=0,\n",
    "                                                       force_resample=True))\n",
    "  for anat_img in subject00.mar_scans.anat[1].tolist()]"
   ]
  },
  {
   "cell_type": "code",
   "execution_count": 5,
   "id": "844945a9",
   "metadata": {},
   "outputs": [],
   "source": [
    "from nilearn import image\n",
    "from nilearn.image import new_img_like\n",
    "mean_fmri = image.mean_img(concat_imgs(list(iter_img(subject00.cleaned_func))[3:-1]))\n",
    "\n",
    "from nilearn.plotting import plot_stat_map, plot_img, show\n",
    "searchlight_img = new_img_like(mean_fmri, searchlight.scores_)\n",
    "\n",
    "# Because scores are not a zero-center test statistics, we cannot use\n",
    "# plot_stat_map\n",
    "[plot_img(img=searchlight_img,\n",
    "          bg_img=anat_img[1],\n",
    "          title=\"Searchlight {anat_img}\".format(anat_img=anat_img[0]),\n",
    "          display_mode=\"ortho\",\n",
    "#          cut_coords=[-9],\n",
    "          vmin=.42,\n",
    "          cmap='hot',\n",
    "          threshold=.2,\n",
    "          black_bg=True)\n",
    " for anat_img in subject00_resampled_anat]\n",
    "\n",
    "# F_score results\n",
    "# p_ma = np.ma.array(p_unmasked, mask=np.logical_not(process_mask))\n",
    "# f_score_img = new_img_like(mean_fmri, p_ma)\n",
    "# plot_stat_map(stat_map_img=f_score_img,\n",
    "#               bg_img=subject00.mar_scans.anat[1][2],\n",
    "#               title=\"F-scores\", display_mode=\"ortho\",\n",
    "# #               cut_coords=[-9],\n",
    "#               colorbar=True)\n",
    "\n",
    "show()"
   ]
  },
  {
   "cell_type": "code",
   "execution_count": 6,
   "id": "0aff5952",
   "metadata": {},
   "outputs": [],
   "source": [
    "# Make processing parallel\n",
    "# /!\\ As each thread will print its progress, n_jobs > 1 could mess up the\n",
    "#     information output.\n",
    "\n",
    "# Define the cross-validation scheme used for validation.\n",
    "# Here we use a KFold cross-validation on the session, which corresponds to\n",
    "# splitting the samples in 4 folds and make 4 runs using each fold as a test\n",
    "# set once and the others as learning sets\n",
    "\n",
    "# The radius is the one of the Searchlight sphere that will scan the volume\n",
    "\n",
    "cv = KFold(n_splits=4)\n",
    "\n",
    "\n",
    "searchlight = nilearn.decoding.SearchLight(\n",
    "    mask_img,\n",
    "    process_mask_img=None,\n",
    "    radius=5.6, n_jobs=1,\n",
    "    verbose=1, cv=cv)\n"
   ]
  },
  {
   "cell_type": "code",
   "execution_count": 7,
   "id": "5f1e58ba",
   "metadata": {},
   "outputs": [],
   "source": [
    "rez=first_level_model00.__dict__['results_'][0][0.0]\n",
    "dict(tuple((key, rez.__dict__[key]) for key in list(rez.__dict__.keys())))"
   ]
  },
  {
   "cell_type": "code",
   "execution_count": 110,
   "id": "f269a470",
   "metadata": {},
   "outputs": [],
   "source": [
    "from nilearn.input_data import NiftiMasker, NiftiLabelsMasker\n",
    "labelsmasker00=NiftiLabelsMasker(labels_img=list(iter_img(difumo.maps))[0],\n",
    "                                 labels=difumo.labels,\n",
    "                                 background_label=0,\n",
    "                                 mask_img=subject00.mar_epi_mask,\n",
    "                                 smoothing_fwhm=9.0,\n",
    "                                 standardize=True,\n",
    "                                 standardize_confounds=True,\n",
    "                                 high_variance_confounds=True,\n",
    "                                 detrend=False,\n",
    "                                 low_pass=0.21,\n",
    "                                 high_pass=0.09,\n",
    "                                 t_r=subject00.t_r,\n",
    "                                 dtype=float,\n",
    "                                 resampling_target='labels',\n",
    "                                 memory_level=1,\n",
    "                                 verbose=0,\n",
    "                                 strategy='mean',\n",
    "                                 reports=True)"
   ]
  },
  {
   "cell_type": "code",
   "execution_count": 9,
   "id": "85902d44",
   "metadata": {},
   "outputs": [],
   "source": [
    "labelsmasker00.fit_transform(imgs=subject00.cleaned_func,\n",
    "                                                         confounds=None,\n",
    "                                                         sample_mask=None)"
   ]
  },
  {
   "cell_type": "code",
   "execution_count": 176,
   "id": "875ba740",
   "metadata": {},
   "outputs": [],
   "source": [
    "\n",
    "\n",
    "# create masker to extract functional data within atlas parcels\n",
    "masker = NiftiMapsMasker(maps_img=difumo.maps,\n",
    "                         mask_img=subject00.mar_epi_mask,\n",
    "                         standardize=True,\n",
    "                         allow_overlap=True,\n",
    "                         smoothing_fwhm=9.0,\n",
    "                         standardize_confounds=True,\n",
    "                         high_variance_confounds=True,\n",
    "                         detrend=False,\n",
    "                         low_pass=0.21,\n",
    "                         high_pass=0.09,\n",
    "                         t_r=subject00.t_r,\n",
    "                         dtype=float,\n",
    "                         resampling_target='maps',\n",
    "                         memory_level=1,\n",
    "                         verbose=0)\n",
    "#                          memory='nilearn_cache')\n",
    "connectome_measure = ConnectivityMeasure(kind='correlation')\n",
    "masker.fit()\n",
    "# extract time series from all subjects and concatenate them\n",
    "time_series = masker.transform_single_imgs(imgs=subject00.cleaned_func)\n",
    "#                                            sample_mask=subject00.masker)"
   ]
  },
  {
   "cell_type": "code",
   "execution_count": 177,
   "id": "278afe39",
   "metadata": {},
   "outputs": [],
   "source": [
    "# Has to be written between brackets to avoid dimensionality-related error\n",
    "correlation_matrices = connectome_measure.fit([time_series])"
   ]
  },
  {
   "cell_type": "code",
   "execution_count": 178,
   "id": "f0c592a5",
   "metadata": {},
   "outputs": [],
   "source": [
    "\n",
    "# time_series = []\n",
    "# for func, confounds in zip(subject00.cleaned_func, subject00.confounds):\n",
    "#     time_series.append(masker.fit_transform(func, confounds=confounds))\n",
    "\n",
    "# calculate correlation matrices across subjects and display\n",
    "correlation_matrices = connectome_measure.fit_transform([time_series])\n",
    "\n",
    "# Mean correlation matrix across 10 subjects can be grabbed like this,\n",
    "# using connectome measure object\n",
    "mean_correlation_matrix = connectome_measure.mean_\n",
    "\n",
    "# grab center coordinates for probabilistic atlas\n",
    "coordinates = nilearn.plotting.find_probabilistic_atlas_cut_coords(maps_img=difumo.maps)"
   ]
  },
  {
   "cell_type": "code",
   "execution_count": 10,
   "id": "560a290d",
   "metadata": {},
   "outputs": [],
   "source": [
    "# plot connectome with 85% edge strength in the connectivity\n",
    "nilearn.plotting.plot_connectome(mean_correlation_matrix, coordinates,\n",
    "                                 edge_threshold=\"85%\",\n",
    "                                 title='DiFuMo with {0} dimensions (probabilistic)'.format(64))\n",
    "nilearn.plotting.show()"
   ]
  },
  {
   "cell_type": "code",
   "execution_count": null,
   "id": "b89d2365",
   "metadata": {},
   "outputs": [],
   "source": [
    "NiftiMapsMasker(maps_img, mask_img=None, allow_overlap=True,\n",
    "                smoothing_fwhm=None, standardize=False, standardize_confounds=True,\n",
    "                high_variance_confounds=False, detrend=False, low_pass=None, high_pass=None,\n",
    "                t_r=None, dtype=None,\n",
    "                resampling_target='data', memory=Memory(location=None), memory_level=0, verbose=0)"
   ]
  },
  {
   "cell_type": "code",
   "execution_count": null,
   "id": "8b204ace",
   "metadata": {},
   "outputs": [],
   "source": [
    "from nilearn.input_data import NiftiLabelsMasker\n",
    "from nilearn.connectome import ConnectivityMeasure\n",
    "\n",
    "# ConenctivityMeasure from Nilearn uses simple 'correlation' to compute\n",
    "# connectivity matrices for all subjects in a list\n",
    "connectome_measure = ConnectivityMeasure(kind='correlation')\n",
    "\n",
    "# useful for plotting connectivity interactions on glass brain\n",
    "\n",
    "\n",
    "# create masker to extract functional data within atlas parcels\n",
    "masker = NiftiLabelsMasker(labels_img=yeo['thick_17'], standardize=True,\n",
    "                           memory='nilearn_cache')\n",
    "\n",
    "# extract time series from all subjects and concatenate them\n",
    "time_series = []\n",
    "for func, confounds in zip(data.func, data.confounds):\n",
    "    time_series.append(masker.fit_transform(func, confounds=confounds))\n",
    "\n",
    "# calculate correlation matrices across subjects and display\n",
    "correlation_matrices = connectome_measure.fit_transform(time_series)\n",
    "\n",
    "# Mean correlation matrix across 10 subjects can be grabbed like this,\n",
    "# using connectome measure object\n",
    "mean_correlation_matrix = connectome_measure.mean_\n",
    "\n",
    "# grab center coordinates for atlas labels\n",
    "coordinates = plotting.find_parcellation_cut_coords(labels_img=yeo['thick_17'])\n",
    "\n",
    "# plot connectome with 80% edge strength in the connectivity\n",
    "plotting.plot_connectome(mean_correlation_matrix, coordinates,\n",
    "                         edge_threshold=\"80%\",\n",
    "                         title='Yeo Atlas 17 thick (func)')"
   ]
  },
  {
   "cell_type": "code",
   "execution_count": 12,
   "id": "bdc1ffbd",
   "metadata": {},
   "outputs": [],
   "source": [
    "# help(labelsmasker00.transform_single_imgs)\n",
    "labelsmasker00.transform_single_imgs(difumo.maps)"
   ]
  },
  {
   "cell_type": "code",
   "execution_count": 104,
   "id": "6730b4e8",
   "metadata": {},
   "outputs": [],
   "source": [
    "labelsmasker00_4d_transform = labelsmasker00.transform_single_imgs(imgs=subject00.cleaned_func)\n"
   ]
  },
  {
   "cell_type": "code",
   "execution_count": 5,
   "id": "ac3acd39",
   "metadata": {},
   "outputs": [],
   "source": [
    "masked_imgs00 = subject00.masker.transform(imgs=subject00.cleaned_func)\n",
    "masked_imgs01 = subject01.masker.transform(imgs=subject01.cleaned_func)\n",
    "#                                confounds=subject00.confounds,\n",
    "#                                sample_mask=nilearn.image.get_data(masker.mask_img_))"
   ]
  },
  {
   "cell_type": "code",
   "execution_count": 8,
   "id": "e3342f74",
   "metadata": {},
   "outputs": [],
   "source": [
    "import sklearn\n",
    "import sklearn.svm\n",
    "from sklearn.feature_selection import SelectKBest\n",
    "# help(SelectKBest)\n",
    "import scipy\n",
    "from scipy.fftpack import fft\n",
    "# help(fft)"
   ]
  },
  {
   "cell_type": "code",
   "execution_count": 181,
   "id": "95a66973",
   "metadata": {},
   "outputs": [],
   "source": [
    "masked_func00 = nilearn.masking.apply_mask(imgs=subject00.cleaned_func,\n",
    "                                         mask_img=subject00.masker.mask_img_,\n",
    "                                         dtype='f',\n",
    "                                         smoothing_fwhm=9.0,\n",
    "                                         ensure_finite=True)"
   ]
  },
  {
   "cell_type": "code",
   "execution_count": null,
   "id": "f734d393",
   "metadata": {},
   "outputs": [],
   "source": [
    "from nilearn.input_data import NiftiLabelsMasker\n",
    "from nilearn.connectome import ConnectivityMeasure\n",
    "\n",
    "# ConenctivityMeasure from Nilearn uses simple 'correlation' to compute\n",
    "# connectivity matrices for all subjects in a list\n",
    "connectome_measure = ConnectivityMeasure(kind='correlation')\n",
    "\n",
    "# useful for plotting connectivity interactions on glass brain\n",
    "from nilearn import plotting\n",
    "\n",
    "# create masker to extract functional data within atlas parcels\n",
    "masker = NiftiLabelsMasker(labels_img=difumo.maps, standardize=True,\n",
    "                           memory='nilearn_cache')\n",
    "\n",
    "# extract time series from all subjects and concatenate them\n",
    "time_series = []\n",
    "for func, confounds in zip(data.func, data.confounds):\n",
    "    time_series.append(masker.fit_transform(func, confounds=confounds))\n",
    "\n",
    "# calculate correlation matrices across subjects and display\n",
    "correlation_matrices = connectome_measure.fit_transform(time_series)\n",
    "\n",
    "# Mean correlation matrix across 10 subjects can be grabbed like this,\n",
    "# using connectome measure object\n",
    "mean_correlation_matrix = connectome_measure.mean_\n",
    "\n",
    "# grab center coordinates for atlas labels\n",
    "coordinates = plotting.find_parcellation_cut_coords(labels_img=yeo['thick_17'])\n",
    "\n",
    "# plot connectome with 80% edge strength in the connectivity\n",
    "plotting.plot_connectome(mean_correlation_matrix, coordinates,\n",
    "                         edge_threshold=\"80%\",\n",
    "                         title='Yeo Atlas 17 thick (func)')\n"
   ]
  },
  {
   "cell_type": "code",
   "execution_count": 23,
   "id": "07a569f5",
   "metadata": {},
   "outputs": [],
   "source": [
    "report00.save_as_html(pjoin(xpu('~/'),str(subject00.sub_id[0])+'_'+str(subject00.sub_id[1])))"
   ]
  },
  {
   "cell_type": "code",
   "execution_count": 204,
   "id": "f9c4ef26",
   "metadata": {},
   "outputs": [],
   "source": [
    "# Compute DiFuMo Atlas Masker\n",
    "atlas_path=xpu('~/../../data/neuromod/DATA/DiFuMo/512/3mm/maps.nii.gz')\n",
    "atlas_filename = nib.load(atlas_path)\n",
    "labels = pd.read_csv(xpu('~/../../data/neuromod/DATA/DiFuMo/512/labels_512_dictionary.csv'))\n",
    "\n",
    "# data,fmri_filenames=subject00, cleaned_fmri_imgs\n",
    "\n",
    "from nilearn.input_data import NiftiLabelsMasker\n",
    "masker00 = NiftiLabelsMasker(\n",
    "#     labels_img=nilearn.image.mean_img(atlas_filename),\n",
    "#                            labels_img=mean_img(concat_imgs(difumo['maps'])),\n",
    "                           labels_img=mean_img(concat_imgs(difumo['maps'])),\n",
    "                           labels=difumo['labels'],\n",
    "                           background_label=0,\n",
    "#                              mask_img=nilearn.image.mean_img(atlas_filename),\n",
    "                           mask_img=subject00.mar_epi_mask,\n",
    "                           smoothing_fwhm=9,\n",
    "                           standardize=True,\n",
    "                           standardize_confounds=True,\n",
    "                           high_variance_confounds=True,\n",
    "                           detrend=True,\n",
    "                           low_pass=None, high_pass=None,\n",
    "                           t_r=2.5, dtype=None,\n",
    "                           resampling_target='data',\n",
    "                           memory_level=1,\n",
    "                           verbose=1, strategy='mean',\n",
    "                             reports=True)\n"
   ]
  },
  {
   "cell_type": "code",
   "execution_count": 6,
   "id": "cf4921c9",
   "metadata": {},
   "outputs": [],
   "source": [
    "test02=df(subject00.resampled_frame_times,columns=['onset'])\n",
    "test02[['duration', 'trial_type']]=tuple(zip(test02.onset.diff().dropna().unique().tolist()*test02.shape[0],\n",
    "                                             subject00.events.outcomes.fillna('ctl')))\n",
    "# test02['trial_type']=subject00.events.outcomes.fillna('ctl').values.tolist()\n",
    "events_=test02"
   ]
  },
  {
   "cell_type": "code",
   "execution_count": 7,
   "id": "09c092cd",
   "metadata": {},
   "outputs": [],
   "source": [
    "import numpy as np\n",
    "import pandas as pd\n",
    "from nilearn.glm.first_level import make_first_level_design_matrix\n",
    "\n",
    "def make_design_matrices(fmri_img, events):\n",
    "    design_matrices = []\n",
    "    for idx, img in enumerate(fmri_img, start=1):\n",
    "        # Build experimental paradigm\n",
    "        n_scans = img.shape[-1]\n",
    "#         events = pd.read_table(subject_data['events{}'.format(idx)])\n",
    "        # Define the sampling times for the design matrix\n",
    "        frame_times = np.arange(n_scans) * subject00.t_r\n",
    "        # Build design matrix with the previously defined parameters\n",
    "        design_matrix = make_first_level_design_matrix(\n",
    "                frame_times,\n",
    "                events,\n",
    "                hrf_model='glover',\n",
    "                drift_model='cosine',\n",
    "    #             high_pass=high_pass,\n",
    "                )\n",
    "        # put the design matrices in a list\n",
    "        design_matrices.append(design_matrix)\n",
    "    return design_matrices\n",
    "design_matrices = make_design_matrices(fmri_img=subject00.resampled_fmri_to_events.values,\n",
    "                                       events=subject00.events[['onset','duration','outcomes']].rename(columns={'outcomes':'trial_type'}))"
   ]
  },
  {
   "cell_type": "code",
   "execution_count": 117,
   "id": "67655482",
   "metadata": {},
   "outputs": [],
   "source": [
    "# tuple(zip([matrix.shape for matrix in design_matrices],\n",
    "#           [img.shape for img in subject00.resampled_fmri_to_events.values]))\n",
    "# len(subject00.resampled_fmri_to_events.values)\n"
   ]
  },
  {
   "cell_type": "code",
   "execution_count": 6,
   "id": "519af989",
   "metadata": {},
   "outputs": [],
   "source": [
    "fit_model00_test=first_level_model00.fit(run_imgs=subject00.resampled_fmri_to_events.values,\n",
    "                                         design_matrices=fmri_design_matrix00)"
   ]
  },
  {
   "cell_type": "code",
   "execution_count": 10,
   "id": "c9111bb9",
   "metadata": {},
   "outputs": [],
   "source": [
    "import itertools\n",
    "\n",
    "new_contrast_names = list(str((itm[0],'- '+itm[1]))[1:-1].replace(\n",
    "    \"'\",'').replace(',','') for itm in\n",
    "     itertools.combinations([col for col in\n",
    "                                                                             list(fmri_design_matrix00.columns)\n",
    "                                                                             if 'drift' not in col],2))\n",
    "for newname in new_contrast_names:\n",
    "    basic_contrasts00[newname]=basic_contrasts00[]"
   ]
  },
  {
   "cell_type": "code",
   "execution_count": 24,
   "id": "5bda59ed",
   "metadata": {},
   "outputs": [],
   "source": [
    "difumo = nilearn.datasets.fetch_atlas_difumo(dimension=1024,\n",
    "                                    resolution_mm=3,\n",
    "                                    data_dir=xpu('~/../../data/neuromod/DATA/DiFuMo/'),\n",
    "                                    resume=True,\n",
    "                                    verbose=1)"
   ]
  },
  {
   "cell_type": "code",
   "execution_count": 41,
   "id": "648cfe54",
   "metadata": {},
   "outputs": [],
   "source": [
    "# Compute DiFuMo Atlas Masker\n",
    "atlas_path=xpu('~/../../data/neuromod/DATA/DiFuMo/512/3mm/maps.nii.gz')\n",
    "atlas_filename = nib.load(atlas_path)\n",
    "labels = pd.read_csv(xpu('~/../../data/neuromod/DATA/DiFuMo/512/labels_512_dictionary.csv'))\n"
   ]
  },
  {
   "cell_type": "code",
   "execution_count": 26,
   "id": "dc1990f7",
   "metadata": {},
   "outputs": [],
   "source": [
    "report00 = fit_model00.generate_report(**contrast_params)"
   ]
  },
  {
   "cell_type": "code",
   "execution_count": 27,
   "id": "06987564",
   "metadata": {},
   "outputs": [],
   "source": [
    "report00_test = fit_model00_test.generate_report(**contrast_params)"
   ]
  },
  {
   "cell_type": "code",
   "execution_count": 28,
   "id": "92b6b341",
   "metadata": {},
   "outputs": [],
   "source": [
    "# report00.save_as_html(xpu('~/+'+str(subject00.sub_id[0])+'_contrast_report.html'))"
   ]
  },
  {
   "cell_type": "code",
   "execution_count": 14,
   "id": "95c994cd",
   "metadata": {},
   "outputs": [],
   "source": [
    "from nilearn.input_data import NiftiLabelsMasker\n",
    "from nilearn.connectome import ConnectivityMeasure\n",
    "\n",
    "# ConenctivityMeasure from Nilearn uses simple 'correlation' to compute\n",
    "# connectivity matrices for all subjects in a list\n",
    "connectome_measure = ConnectivityMeasure(kind='correlation')\n",
    "\n",
    "# useful for plotting connectivity interactions on glass brain\n",
    "from nilearn import plotting\n",
    "\n",
    "# create masker to extract functional data within atlas parcels\n",
    "masker = NiftiLabelsMasker(labels_img=difumo['thick_17'], standardize=True,\n",
    "                           memory='nilearn_cache')\n",
    "\n",
    "# extract time series from all subjects and concatenate them\n",
    "time_series = []\n",
    "for func, confounds in zip(data.func, data.confounds):\n",
    "    time_series.append(masker.fit_transform(func, confounds=confounds))\n",
    "\n",
    "# calculate correlation matrices across subjects and display\n",
    "correlation_matrices = connectome_measure.fit_transform(time_series)\n",
    "\n",
    "# Mean correlation matrix across 10 subjects can be grabbed like this,\n",
    "# using connectome measure object\n",
    "mean_correlation_matrix = connectome_measure.mean_\n",
    "\n",
    "# grab center coordinates for atlas labels\n",
    "coordinates = plotting.find_parcellation_cut_coords(labels_img=difumo['thick_17'])\n",
    "\n",
    "# plot connectome with 80% edge strength in the connectivity\n",
    "plotting.plot_connectome(mean_correlation_matrix, coordinates,\n",
    "                         edge_threshold=\"80%\",\n",
    "                         title='difumo Atlas 17 thick (func)')"
   ]
  },
  {
   "cell_type": "markdown",
   "id": "d472d9ea",
   "metadata": {},
   "source": [
    "We can specify basic contrasts (to get beta maps).\n",
    "We start by specifying canonical contrast that isolate design matrix columns.\n",
    "We actually want more interesting contrasts. The simplest contrast\n",
    "just makes the difference between the two main conditions.  We\n",
    "define the two opposite versions to run one-tailed t-tests.  We also\n",
    "define the effects of interest contrast, a 2-dimensional contrasts\n",
    "spanning the two conditions."
   ]
  },
  {
   "cell_type": "code",
   "execution_count": null,
   "id": "3f8e2a29",
   "metadata": {},
   "outputs": [],
   "source": [
    "computed_contrasts=[fmri_glm.compute_contrast(\n",
    "                         contrast_val, output_type='z_score')\n",
    "                    for contrast_id, contrast_val in contrasts.items()]"
   ]
  },
  {
   "cell_type": "code",
   "execution_count": 15,
   "id": "0954d804",
   "metadata": {},
   "outputs": [],
   "source": [
    "import itertools\n",
    "new_contrast_names = list(str((itm[0],'- '+itm[1]))[1:-1].replace(\n",
    "    \"'\",'').replace(',','') for itm in\n",
    "     itertools.combinations(names,2))\n",
    "new_contrast_names\n",
    "# basic_contrasts00[itm] = basic_contrasts00[itm.split(' - ')]\n",
    "# [tuple(itm) for itm in new_contrast_names]\n"
   ]
  },
  {
   "cell_type": "code",
   "execution_count": 98,
   "id": "a8129048",
   "metadata": {},
   "outputs": [],
   "source": [
    "# fit_model01=first_level_model00.fit(run_imgs=list(iter_img(concat_imgs(subject00.resampled_fmri_to_events.values))),\n",
    "#                         design_matrices=design_matrices)"
   ]
  },
  {
   "cell_type": "code",
   "execution_count": 42,
   "id": "394e6403",
   "metadata": {},
   "outputs": [],
   "source": [
    "# import nilearn.decoding\n",
    "\n",
    "# # Define the cross-validation scheme used for validation.\n",
    "# # Here we use a KFold cross-validation on the session, which corresponds to\n",
    "# # splitting the samples in 4 folds and make 4 runs using each fold as a test\n",
    "# # set once and the others as learning sets\n",
    "# from sklearn.model_selection import KFold\n",
    "\n",
    "# import nilearn.decoding\n",
    "# # The radius is the one of the Searchlight sphere that will scan the volume\n",
    "# searchlight = nilearn.decoding.SearchLight(\n",
    "#     mask_img=subject_data.mar_epi_mask,\n",
    "#     process_mask_img=nilearn.image.get_data(subject_data.mar_epi_mask).astype(np.int),\n",
    "#     radius=5.6,\n",
    "#     n_jobs=1,\n",
    "#     verbose=1,\n",
    "#     estimator=first_level_model00)\n",
    "\n",
    "# Process Mask\n",
    "mask_img = subject_data00.mar_epi_mask\n",
    "\n",
    "# .astype() makes a copy.\n",
    "process_mask00 = nilearn.image.get_data(mask_img).astype(np.int)\n",
    "# picked_slice = 29\n",
    "# process_mask[..., (picked_slice + 1):] = 0\n",
    "# process_mask[..., :picked_slice] = 0\n",
    "# process_mask[:, 30:] = 0\n",
    "process_mask_img00 = nilearn.image.new_img_like(mask_img, process_mask00)\n",
    "\n",
    "# Searchlight\n",
    "from nilearn.decoding import SearchLight\n",
    "searchlight=SearchLight(mask_img=subject_data00.mar_epi_mask\n",
    "                                   , process_mask_img=process_mask_img00,\n",
    "                                   radius=2.0, estimator=first_level_model00,\n",
    "                                   n_jobs=1, scoring=None, cv=None, verbose=0)\n",
    "# enc_ctl_report=fit_model00.generate_report(contrasts=list(fit_model00.design_matrices_[0].columns[:4])+['enc-ctl'],\n",
    "#                                          bg_img=subject_data.mar_epi_mask)\n",
    "# enc_ctl_report"
   ]
  },
  {
   "cell_type": "code",
   "execution_count": 16,
   "id": "4d6d64fe",
   "metadata": {},
   "outputs": [],
   "source": [
    "contrast_matrix = np.eye(fit_model.design_matrices_[0].shape[1])\n",
    "basic_contrasts = dict([(column, contrast_matrix[i]) for i, column in\n",
    "                        enumerate(fit_model.design_matrices_[0].columns[:5])])\n",
    "# basic_contrasts['enc-hit']=basic_contrasts['enc']-basic_contrasts['hit']\n",
    "# basic_contrasts['enc-miss']=basic_contrasts['enc']-basic_contrasts['miss']\n",
    "basic_contrasts['ctl-hit']=basic_contrasts['ctl']-basic_contrasts['hit']\n",
    "basic_contrasts['ctl-miss']=basic_contrasts['ctl']-basic_contrasts['miss']\n",
    "basic_contrasts['ctl-false_alarm']=basic_contrasts['false_alarm']-basic_contrasts['ctl']\n",
    "# basic_contrasts['enc-ctl']=basic_contrasts['enc']-basic_contrasts['ctl']\n",
    "basic_contrasts['false_alarm-hit']=basic_contrasts['false_alarm']-basic_contrasts['hit']\n",
    "# basic_contrasts['false_alarm-enc']=basic_contrasts['false_alarm']-basic_contrasts['enc']\n",
    "basic_contrasts['false_alarm-miss']=basic_contrasts['false_alarm']-basic_contrasts['miss']\n",
    "basic_contrasts['hit-miss']=basic_contrasts['hit']-basic_contrasts['miss']\n",
    "# basic_contrasts['control']={basic_contrasts['ctl'],\n",
    "#                             basic_contrasts['ctl-miss'],\n",
    "#                             basic_contrasts['ctl-hit'],\n",
    "#                             basic_contrasts['ctl-false_alarm']}\n",
    "basic_contrasts"
   ]
  },
  {
   "cell_type": "code",
   "execution_count": 24,
   "id": "23bb047a",
   "metadata": {},
   "outputs": [],
   "source": [
    "def unzip_obj(src_path):\n",
    "    with gzip.open(src_path, 'rb') as f_in:\n",
    "        uzobj = f_in.read()\n",
    "    f_in.close()\n",
    "    return uzobj\n",
    "def tmptargz(src_path):\n",
    "    with tmpfile(prefix=os.getcwd()+\"/\",\n",
    "                dir=os.path.splitext(topname)[0],\n",
    "                suffix=None) as atar:\n",
    "        BytesIO(unzip_obj(snif.get_bytes(pjoin(src_path, topname)))).write(atar)\n",
    "        with tmpdir(prefix=os.getcwd()+\"/\",\n",
    "                    dir=os.path.splitext(bname(atar.name))[0],\n",
    "                    suffix=\"/\") as adir:\n",
    "            atar.write(adir.name)\n",
    "    #             shutil.copytree(tardir, adir)\n",
    "            print(ls(adir.name))\n",
    "        adir.flush()\n",
    "tmptargz(tardir)        "
   ]
  }
 ],
 "metadata": {
  "kernelspec": {
   "display_name": "Python 3",
   "language": "python",
   "name": "python3"
  },
  "language_info": {
   "codemirror_mode": {
    "name": "ipython",
    "version": 3
   },
   "file_extension": ".py",
   "mimetype": "text/x-python",
   "name": "python",
   "nbconvert_exporter": "python",
   "pygments_lexer": "ipython3",
   "version": "3.7.5"
  }
 },
 "nbformat": 4,
 "nbformat_minor": 5
}
